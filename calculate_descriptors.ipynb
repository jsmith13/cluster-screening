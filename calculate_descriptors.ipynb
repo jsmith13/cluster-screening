{
 "cells": [
  {
   "cell_type": "markdown",
   "metadata": {},
   "source": [
    "Cluster molecules and visualize SAR based on simple molecular descriptors.\n",
    "\n",
    "Structure/activity data drawn from \"A High Throughput Confirmatory Assay used to Identify Novel Compounds that Inhibit Mycobacterium Tuberculosis in the absence of Glycerol\" (PubChem AID 449764).\n",
    "https://pubchem.ncbi.nlm.nih.gov/bioassay/449764\n",
    "\n",
    "Molecular descriptors calculated with KNIME-CDK version 1.5.600.v201711101057."
   ]
  },
  {
   "cell_type": "code",
   "execution_count": 1,
   "metadata": {},
   "outputs": [],
   "source": [
    "## setup cell\n",
    "# import required libaries\n",
    "from rdkit import Chem\n",
    "from rdkit.Chem.AllChem import GetMorganFingerprintAsBitVect\n",
    "from rdkit import DataStructs\n",
    "from sklearn.cluster import DBSCAN\n",
    "import pandas as pd\n",
    "import numpy as np\n",
    "from matplotlib import pyplot as plt"
   ]
  },
  {
   "cell_type": "code",
   "execution_count": 2,
   "metadata": {},
   "outputs": [],
   "source": [
    "## load and process data\n",
    "# load the initial dataset\n",
    "screening_data = pd.read_csv(\"descriptors.csv\")\n",
    "\n",
    "# convert SMILES strings into RDKit format\n",
    "screening_data[\"mol\"] = screening_data[\"SMILES\"].apply(Chem.MolFromSmiles)\n",
    "\n",
    "# calculate Morgan fingerprints for the molecules\n",
    "screening_data[\"fingerprints\"] = screening_data[\"mol\"].apply(lambda x: GetMorganFingerprintAsBitVect(x, 2))"
   ]
  },
  {
   "cell_type": "code",
   "execution_count": 3,
   "metadata": {},
   "outputs": [],
   "source": [
    "## calculate Tanimoto distance matrix between molecular fingerprints\n",
    "# declare an array to hold the distances\n",
    "distances = np.empty([len(screening_data[\"fingerprints\"]), len(screening_data[\"fingerprints\"])])\n",
    "\n",
    "# calculate the distance array\n",
    "for i in range(len(screening_data[\"fingerprints\"])):\n",
    "    for j in range(i, len(screening_data[\"fingerprints\"])):\n",
    "        distances[i, j] = 1 - DataStructs.TanimotoSimilarity(screening_data[\"fingerprints\"][i], screening_data[\"fingerprints\"][j])\n",
    "        distances[j, i] = distances[i, j]"
   ]
  },
  {
   "cell_type": "code",
   "execution_count": 4,
   "metadata": {},
   "outputs": [
    {
     "data": {
      "image/png": "[encoded data removed]",
      "text/plain": [
       "<Figure size 432x288 with 2 Axes>"
      ]
     },
     "metadata": {
      "needs_background": "light"
     },
     "output_type": "display_data"
    }
   ],
   "source": [
    "## tune clustering algorithm\n",
    "# select some values of epsilon to try\n",
    "epsilon = np.arange(0.59, 0.7, 0.01)\n",
    "\n",
    "# declare an empty array to hold the number of clusters\n",
    "n_clusters = np.empty([len(epsilon), 2])\n",
    "\n",
    "# scan through epsilon values\n",
    "for i in range(len(epsilon)):\n",
    "    # cluster by distance at each epsilon\n",
    "    clusters = DBSCAN(eps = epsilon[i], min_samples = 5, metric = \"precomputed\").fit(distances)\n",
    "    \n",
    "    # store the number of clusters generated and median cluster size\n",
    "    # number of clusters (including singletons as a class)\n",
    "    n_clusters[i, 0] = len(np.unique(clusters.labels_))\n",
    "    # median cluster size\n",
    "    n_clusters[i, 1] = np.median(pd.Series(clusters.labels_).value_counts())\n",
    "    \n",
    "# plot number of clusters as a function of epsilon\n",
    "fig, axs = plt.subplots(1, 2, tight_layout = True)\n",
    "axs[0].plot(epsilon, n_clusters[:, 0])\n",
    "axs[1].plot(epsilon, n_clusters[:, 1])\n",
    "plt.show()"
   ]
  },
  {
   "cell_type": "code",
   "execution_count": 5,
   "metadata": {},
   "outputs": [
    {
     "data": {
      "text/plain": [
       "-1     2181\n",
       " 3       14\n",
       " 5       12\n",
       " 4       10\n",
       " 2        9\n",
       " 1        7\n",
       " 9        5\n",
       " 7        5\n",
       " 10       5\n",
       " 6        5\n",
       " 0        5\n",
       " 8        4\n",
       "Name: cluster, dtype: int64"
      ]
     },
     "execution_count": 5,
     "metadata": {},
     "output_type": "execute_result"
    }
   ],
   "source": [
    "# cluster compounds to give a balance between number of clusters and cluster size; store in dataframe\n",
    "screening_data[\"cluster\"] = DBSCAN(eps = 0.61, min_samples = 5, metric = \"precomputed\").fit(distances).labels_\n",
    "\n",
    "# count the number of compounds per cluster\n",
    "screening_data.cluster.value_counts()"
   ]
  },
  {
   "cell_type": "markdown",
   "metadata": {},
   "source": [
    "We have a large number of singletons in the dataset, but we have identified 11 clusters of reasonable size. The next step will be to evaluate the clustered compounds, plus look for singletons with particularly interesting chemical properties."
   ]
  },
  {
   "cell_type": "code",
   "execution_count": 6,
   "metadata": {},
   "outputs": [
    {
     "data": {
      "text/plain": [
       "cluster\n",
       "-1      47.707590\n",
       " 0      42.942000\n",
       " 1      52.710000\n",
       " 2      69.705714\n",
       " 3      33.471111\n",
       " 4      33.673750\n",
       " 5      46.784000\n",
       " 6      59.632500\n",
       " 7      40.226667\n",
       " 8     100.000000\n",
       " 9      15.410000\n",
       " 10     71.450000\n",
       "Name: IC90, dtype: float64"
      ]
     },
     "execution_count": 6,
     "metadata": {},
     "output_type": "execute_result"
    }
   ],
   "source": [
    "screening_data.groupby(\"cluster\")[\"IC90\"].mean()"
   ]
  }
 ],
 "metadata": {
  "kernelspec": {
   "display_name": "Python 3",
   "language": "python",
   "name": "python3"
  },
  "language_info": {
   "codemirror_mode": {
    "name": "ipython",
    "version": 3
   },
   "file_extension": ".py",
   "mimetype": "text/x-python",
   "name": "python",
   "nbconvert_exporter": "python",
   "pygments_lexer": "ipython3",
   "version": "3.7.3"
  }
 },
 "nbformat": 4,
 "nbformat_minor": 2
}
